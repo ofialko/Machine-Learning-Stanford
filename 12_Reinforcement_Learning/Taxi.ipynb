{
 "cells": [
  {
   "cell_type": "code",
   "execution_count": 158,
   "metadata": {},
   "outputs": [],
   "source": [
    "import gym\n",
    "import numpy as np\n",
    "from IPython.display import Image, clear_output\n",
    "from time import sleep\n",
    "# Loading Taxi-v2 environment\n",
    "env = gym.make('Taxi-v2')"
   ]
  },
  {
   "cell_type": "code",
   "execution_count": 29,
   "metadata": {},
   "outputs": [
    {
     "name": "stdout",
     "output_type": "stream",
     "text": [
      "There are 6 actions and 500 states\n"
     ]
    }
   ],
   "source": [
    "print(\"There are\",env.action_space.n, \"actions\",end=' ')\n",
    "print(\"and\",env.observation_space.n, \"states\")"
   ]
  },
  {
   "cell_type": "code",
   "execution_count": 45,
   "metadata": {},
   "outputs": [
    {
     "name": "stdout",
     "output_type": "stream",
     "text": [
      "+---------+\n",
      "|R: | : :G|\n",
      "|\u001b[43m \u001b[0m: : : : |\n",
      "| : : : : |\n",
      "| | : | : |\n",
      "|\u001b[35mY\u001b[0m| : |\u001b[34;1mB\u001b[0m: |\n",
      "+---------+\n",
      "\n"
     ]
    }
   ],
   "source": [
    "# let's see how state number 114 look like\n",
    "env.reset()\n",
    "env.env.s = 114\n",
    "env.render()"
   ]
  },
  {
   "cell_type": "code",
   "execution_count": 46,
   "metadata": {},
   "outputs": [
    {
     "name": "stdout",
     "output_type": "stream",
     "text": [
      "+---------+\n",
      "|R: | : :G|\n",
      "|\u001b[43m \u001b[0m: : : : |\n",
      "| : : : : |\n",
      "| | : | : |\n",
      "|\u001b[35mY\u001b[0m| : |\u001b[34;1mB\u001b[0m: |\n",
      "+---------+\n",
      "  (Dropoff)\n"
     ]
    }
   ],
   "source": [
    "# E.g step number 5 is called \"Dropoff\"\n",
    "env.step(5)\n",
    "env.render()"
   ]
  },
  {
   "cell_type": "code",
   "execution_count": 70,
   "metadata": {},
   "outputs": [
    {
     "data": {
      "text/plain": [
       "5"
      ]
     },
     "execution_count": 70,
     "metadata": {},
     "output_type": "execute_result"
    }
   ],
   "source": [
    "# To generate random step:\n",
    "env.action_space.sample()"
   ]
  },
  {
   "cell_type": "code",
   "execution_count": 92,
   "metadata": {},
   "outputs": [
    {
     "name": "stdout",
     "output_type": "stream",
     "text": [
      "3989\n",
      "+---------+\n",
      "|\u001b[35m\u001b[42mR\u001b[0m\u001b[0m: | : :G|\n",
      "| : : : : |\n",
      "| : : : : |\n",
      "| | : | : |\n",
      "|Y| : |B: |\n",
      "+---------+\n",
      "  (Dropoff)\n"
     ]
    }
   ],
   "source": [
    "# Try all possible configurations until drop-off occurs with specified reward (20)\n",
    "state = env.reset()\n",
    "counter = 0\n",
    "reward = None\n",
    "while reward != 20:\n",
    "    state, reward, done, info = env.step(env.action_space.sample())\n",
    "    counter += 1\n",
    "\n",
    "print(counter)\n",
    "env.render()"
   ]
  },
  {
   "cell_type": "markdown",
   "metadata": {},
   "source": [
    "## Q-learning \n",
    "![](Q-learning.png)"
   ]
  },
  {
   "cell_type": "code",
   "execution_count": 133,
   "metadata": {},
   "outputs": [
    {
     "name": "stdout",
     "output_type": "stream",
     "text": [
      "Episode 50 Total Reward: -121\n",
      "Episode 100 Total Reward: 7\n",
      "Episode 150 Total Reward: -64\n",
      "Episode 200 Total Reward: -140\n",
      "Episode 250 Total Reward: 7\n",
      "Episode 300 Total Reward: 14\n",
      "Episode 350 Total Reward: 13\n",
      "Episode 400 Total Reward: 8\n",
      "Episode 450 Total Reward: 10\n",
      "Episode 500 Total Reward: 9\n",
      "Episode 550 Total Reward: 9\n",
      "Episode 600 Total Reward: 9\n",
      "Episode 650 Total Reward: 9\n",
      "Episode 700 Total Reward: 8\n",
      "Episode 750 Total Reward: 7\n",
      "Episode 800 Total Reward: 7\n",
      "Episode 850 Total Reward: 7\n",
      "Episode 900 Total Reward: 6\n",
      "Episode 950 Total Reward: 11\n",
      "Episode 1000 Total Reward: 8\n"
     ]
    }
   ],
   "source": [
    "Q = np.zeros([env.observation_space.n, env.action_space.n])\n",
    "G=0\n",
    "alpha = 0.6\n",
    "\n",
    "for episode in range(1,1001):\n",
    "    done = False\n",
    "    G, reward = 0,0\n",
    "    state = env.reset()\n",
    "    while done != True:\n",
    "            action = np.argmax(Q[state]) \n",
    "            state2, reward, done, info = env.step(action) \n",
    "            Q[state,action] += alpha * (reward + np.max(Q[state2]) - Q[state,action]) \n",
    "            G += reward\n",
    "            state = state2   \n",
    "    if episode % 50 == 0:\n",
    "        print('Episode {} Total Reward: {}'.format(episode,G))"
   ]
  },
  {
   "cell_type": "code",
   "execution_count": 163,
   "metadata": {},
   "outputs": [
    {
     "name": "stdout",
     "output_type": "stream",
     "text": [
      "+---------+\n",
      "|\u001b[35m\u001b[42mR\u001b[0m\u001b[0m: | : :G|\n",
      "| : : : : |\n",
      "| : : : : |\n",
      "| | : | : |\n",
      "|Y| : |B: |\n",
      "+---------+\n",
      "  (Dropoff)\n",
      "Reward 152 , # of steps 12\n"
     ]
    }
   ],
   "source": [
    "env.reset(); state = env.env.s\n",
    "counter = 0; done = False\n",
    "while done != True:\n",
    "    action = np.argmax(Q[state])\n",
    "    state2, reward, done, info = env.step(action)\n",
    "    G += reward\n",
    "    state = state2\n",
    "    counter += 1\n",
    "    env.render()\n",
    "    sleep(1)\n",
    "    clear_output()\n",
    "env.render()\n",
    "env.env.s = state\n",
    "print(\"Reward\",G,\", # of steps\",counter)"
   ]
  }
 ],
 "metadata": {
  "kernelspec": {
   "display_name": "Python 3",
   "language": "python",
   "name": "python3"
  },
  "language_info": {
   "codemirror_mode": {
    "name": "ipython",
    "version": 3
   },
   "file_extension": ".py",
   "mimetype": "text/x-python",
   "name": "python",
   "nbconvert_exporter": "python",
   "pygments_lexer": "ipython3",
   "version": "3.5.3"
  }
 },
 "nbformat": 4,
 "nbformat_minor": 2
}
