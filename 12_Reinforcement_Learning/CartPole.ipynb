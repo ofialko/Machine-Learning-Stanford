{
 "cells": [
  {
   "cell_type": "code",
   "execution_count": 73,
   "metadata": {},
   "outputs": [],
   "source": [
    "%matplotlib inline\n",
    "import matplotlib.pyplot as plt\n",
    "import numpy as np\n",
    "import pandas as pd\n",
    "import gym\n",
    "from gym import wrappers"
   ]
  },
  {
   "cell_type": "markdown",
   "metadata": {},
   "source": [
    "## 1.1 First attempt"
   ]
  },
  {
   "cell_type": "code",
   "execution_count": 3,
   "metadata": {},
   "outputs": [],
   "source": [
    "# Identify vectors with bad policy\n",
    "X = []\n",
    "env = gym.make('CartPole-v0')\n",
    "for step_idx in range(10000):\n",
    "    obs = env.reset()\n",
    "    while True:\n",
    "        obs, reward, done, _ = env.step(env.action_space.sample())\n",
    "        if done:\n",
    "            X.append(obs.tolist())\n",
    "            break\n",
    "    \n",
    "X = np.array(X)"
   ]
  },
  {
   "cell_type": "code",
   "execution_count": 8,
   "metadata": {},
   "outputs": [],
   "source": [
    "# Make a step. \n",
    "# If the minimal distance between new obserbvation and bad policy vectors decreases\n",
    "# change the step\n",
    "env = gym.make('CartPole-v0')\n",
    "obs = env.reset()\n",
    "#start with vertical position for simpplicity\n",
    "env.env.state = np.zeros(4)\n",
    "d0=np.linalg.norm(X - obs,axis=1).max()\n",
    "s=env.action_space.sample()\n",
    "\n",
    "for step_idx in range(1000):\n",
    "    env.render()\n",
    "    obs, reward, done, _ = env.step(s)\n",
    "    d = np.linalg.norm(X-obs,axis=1).min()\n",
    "    if d <= d0:\n",
    "        s = (s+1)%2\n",
    "    d0 = d\n",
    "    if done:\n",
    "        break\n",
    "\n",
    "env.close()"
   ]
  },
  {
   "cell_type": "markdown",
   "metadata": {},
   "source": [
    "## 1.2 Random search"
   ]
  },
  {
   "cell_type": "code",
   "execution_count": 29,
   "metadata": {},
   "outputs": [],
   "source": [
    "def gen_random_policy():\n",
    "    return (np.random.uniform(-1,1, size=4), np.random.uniform(-1,1))\n",
    "\n",
    "def policy_to_action(policy, obs):\n",
    "    if np.dot(policy[0], obs) + policy[1] > 0:\n",
    "        return 1\n",
    "    else:\n",
    "        return 0\n",
    "\n",
    "def run_episode(env, policy, t_max=1000, render=False):\n",
    "    obs = env.reset()\n",
    "    total_reward = 0\n",
    "    for i in range(t_max):\n",
    "        if render:\n",
    "            env.render()\n",
    "        selected_action = policy_to_action(policy, obs)\n",
    "        obs, reward, done, _ = env.step(selected_action)\n",
    "        total_reward += reward\n",
    "        if done:\n",
    "            break\n",
    "    return total_reward"
   ]
  },
  {
   "cell_type": "code",
   "execution_count": 30,
   "metadata": {},
   "outputs": [
    {
     "name": "stdout",
     "output_type": "stream",
     "text": [
      "Best policy score = 200.000000\n",
      "Running with best policy:\n",
      "\n"
     ]
    }
   ],
   "source": [
    "env = gym.make('CartPole-v0')\n",
    "\n",
    "## Generate a pool or random policies\n",
    "n_policy = 500\n",
    "policy_list = [gen_random_policy() for _ in range(n_policy)]\n",
    "\n",
    "# Evaluate the score of each policy.\n",
    "scores_list = [run_episode(env, p) for p in policy_list]\n",
    "\n",
    "# Select the best policy.\n",
    "print('Best policy score = %f' %max(scores_list))\n",
    "\n",
    "best_policy= policy_list[np.argmax(scores_list)]\n",
    "print('Running with best policy:\\n')\n",
    "run_episode(env, best_policy, render=True)\n",
    "\n",
    "env.close()"
   ]
  },
  {
   "cell_type": "code",
   "execution_count": null,
   "metadata": {},
   "outputs": [],
   "source": []
  }
 ],
 "metadata": {
  "kernelspec": {
   "display_name": "Python 3",
   "language": "python",
   "name": "python3"
  },
  "language_info": {
   "codemirror_mode": {
    "name": "ipython",
    "version": 3
   },
   "file_extension": ".py",
   "mimetype": "text/x-python",
   "name": "python",
   "nbconvert_exporter": "python",
   "pygments_lexer": "ipython3",
   "version": "3.5.3"
  }
 },
 "nbformat": 4,
 "nbformat_minor": 2
}
