{
 "cells": [
  {
   "cell_type": "markdown",
   "metadata": {},
   "source": [
    "## Sentiment Analysis of Tweets"
   ]
  },
  {
   "cell_type": "code",
   "execution_count": 247,
   "metadata": {},
   "outputs": [],
   "source": [
    "%matplotlib inline\n",
    "import matplotlib.pylab as plt\n",
    "import pandas as pd\n",
    "import numpy as np\n",
    "import os, spacy, zipfile\n",
    "from sklearn.model_selection import train_test_split\n",
    "from sklearn import metrics\n",
    "from urllib.request import urlretrieve, urlopen\n",
    "\n",
    "import torch\n",
    "import torch.autograd as grad\n",
    "import torch.nn as nn\n",
    "import torch.nn.functional as F\n",
    "import torch.optim as optim"
   ]
  },
  {
   "cell_type": "code",
   "execution_count": 74,
   "metadata": {},
   "outputs": [
    {
     "name": "stdout",
     "output_type": "stream",
     "text": [
      "The file is already downloaded\n"
     ]
    }
   ],
   "source": [
    "# Download twitter glove\n",
    "\n",
    "if os.path.exists('glove'):\n",
    "        print('The file is already downloaded')\n",
    "else:\n",
    "    glove_link = \"http://nlp.stanford.edu/data/glove.twitter.27B.zip\"\n",
    "    glove_name = \"glove.twitter.27B.zip\"\n",
    "    glove_name, _ = urlretrieve(glove_link,glove_name)\n",
    "    # unziping\n",
    "    with zipfile.ZipFile(glove_name,'r') as f:\n",
    "        f.extractall('glove')"
   ]
  },
  {
   "cell_type": "code",
   "execution_count": 76,
   "metadata": {},
   "outputs": [
    {
     "name": "stdout",
     "output_type": "stream",
     "text": [
      "Loading Glove words embeddings ...\n",
      "Done ! 1193514 words loaded.\n"
     ]
    }
   ],
   "source": [
    "#loading the glove model\n",
    "# every line of a glove file is \"word\" following by its vector representation\n",
    "\n",
    "def load_glov_model(glovefile):\n",
    "    print('Loading Glove words embeddings ...')\n",
    "    f = open(glovefile,'r',encoding=\"utf8\")\n",
    "    model = {}\n",
    "    for line in f:\n",
    "        line_ = line.split()\n",
    "        word = line_[0]\n",
    "        embedding = [float(val) for val in line_[1:]]\n",
    "        model[word] = embedding\n",
    "    f.close()\n",
    "    print('Done !', len(model), 'words loaded.')\n",
    "    return model\n",
    "        \n",
    "model = load_glov_model('glove/glove.twitter.27B.200d.txt')"
   ]
  },
  {
   "cell_type": "code",
   "execution_count": 2,
   "metadata": {},
   "outputs": [
    {
     "name": "stdout",
     "output_type": "stream",
     "text": [
      "The file Tweets.csv is laready downloaded\n"
     ]
    }
   ],
   "source": [
    "# Download the training data from github\n",
    "file=\"https://raw.githubusercontent.com/crwong/cs224u-project/master/data/sentiment/training.1600000.processed.noemoticon.csv\"\n",
    "file_name = \"Tweets.csv\"\n",
    "\n",
    "if os.path.exists(file_name):\n",
    "    print('The file',file_name,'is already downloaded')\n",
    "else:\n",
    "    filename, _ = urlretrieve(file,filename=file_name)"
   ]
  },
  {
   "cell_type": "code",
   "execution_count": 4,
   "metadata": {},
   "outputs": [
    {
     "name": "stdout",
     "output_type": "stream",
     "text": [
      "Downloading...\n",
      "\n",
      "archive.gz checksum/md5 OK\n"
     ]
    },
    {
     "name": "stderr",
     "output_type": "stream",
     "text": [
      "Model successfully installed.\n"
     ]
    }
   ],
   "source": [
    "! python -m spacy.en.download"
   ]
  },
  {
   "cell_type": "code",
   "execution_count": 5,
   "metadata": {},
   "outputs": [],
   "source": [
    "# Load English tokenizer, tagger, parser, NER and word vectors\n",
    "nlp = spacy.load('en')"
   ]
  },
  {
   "cell_type": "code",
   "execution_count": 236,
   "metadata": {},
   "outputs": [],
   "source": [
    "#load the dataset\n",
    "data=pd.read_csv(file_name, encoding= \"latin-1\",header=None)\n",
    "\n",
    "y = data[0]\n",
    "X = data[5]\n",
    "\n",
    "X_train, X_test, y_train, y_test = train_test_split(X.values, y.values, test_size=0.2)\n",
    "y_train = pd.get_dummies(y_train)[0]\n",
    "y_test  = pd.get_dummies(y_test)[0]"
   ]
  },
  {
   "cell_type": "code",
   "execution_count": 237,
   "metadata": {},
   "outputs": [],
   "source": [
    "# function to remove stopwords\n",
    "def stopwords(sentence):\n",
    "    new = []\n",
    "    sen = nlp(sentence)\n",
    "    for w in sen:\n",
    "        if (w.is_stop == False) & (w.pos_ != \"PUNCT\"):\n",
    "            new.append(w.string.strip())\n",
    "    #c = \" \".join(str(x) for x in new)\n",
    "    c = \" \".join(new)\n",
    "    return c\n",
    "\n",
    "# function to lematise the wteets\n",
    "def lemmatise(sentence):\n",
    "    sen = nlp(sentence)\n",
    "    str_ = \"\"\n",
    "    for w in sen:\n",
    "        str_ += \" \"+w.lemma_\n",
    "    return nlp(str_)\n",
    "\n",
    "#vectorising the sentences\n",
    "def sent_vect(sent, model):\n",
    "    sent_vec = np.zeros(200)\n",
    "    numw = 0\n",
    "    for w in sent.split():\n",
    "        try:\n",
    "            sent_vec = np.add(sent_vec, model[str(w)])\n",
    "            numw += 1\n",
    "        except:\n",
    "            pass\n",
    "    return sent_vec"
   ]
  },
  {
   "cell_type": "code",
   "execution_count": 238,
   "metadata": {},
   "outputs": [],
   "source": [
    "#Vectorising the datasets\n",
    "X_train_clean = []\n",
    "for i in range(X_train.shape[0]):\n",
    "    doc= str(lemmatise(stopwords(X_train[i].lower())))\n",
    "    X_train_clean.append(sent_vect(doc,model))\n",
    "\n",
    "X_train_clean = np.array(X_train_clean)\n",
    "\n",
    "X_test_clean = []\n",
    "for i in range(X_test.shape[0]):\n",
    "    doc= str(lemmatise(stopwords(X_test[i].lower())))\n",
    "    X_test_clean.append(sent_vect(doc,model))\n",
    "X_test_clean = np.array(X_test_clean)"
   ]
  },
  {
   "cell_type": "markdown",
   "metadata": {},
   "source": [
    "## Building a model"
   ]
  },
  {
   "cell_type": "code",
   "execution_count": 293,
   "metadata": {},
   "outputs": [],
   "source": [
    "class DOC_classifier(nn.Module):\n",
    "    def __init__(self,num_labels,embed_size):\n",
    "        super(DOC_classifier,self).__init__()\n",
    "        self.linear1 = nn.Linear(embed_size,100)\n",
    "        self.linear2 = nn.Linear(100,20)\n",
    "        self.linear3 = nn.Linear(20,num_labels)\n",
    "    \n",
    "    def forward(self,doc_vec):\n",
    "        out1 = F.relu(self.linear1(doc_vec))\n",
    "        out2 = F.relu(self.linear2(out1))\n",
    "        return F.log_softmax(self.linear3(out2))\n",
    "    \n",
    "clf = DOC_classifier(2,200)"
   ]
  },
  {
   "cell_type": "code",
   "execution_count": 294,
   "metadata": {},
   "outputs": [
    {
     "name": "stdout",
     "output_type": "stream",
     "text": [
      "Wall time: 1min 57s\n"
     ]
    }
   ],
   "source": [
    "%%time\n",
    "\n",
    "batch_size = 400\n",
    "num_batches = X_train_clean.shape[0]//batch_size\n",
    "\n",
    "loss_fun = nn.NLLLoss()\n",
    "optimizer = optim.SGD(clf.parameters(),lr=0.01,weight_decay=0.02)\n",
    "\n",
    "auc_train = []\n",
    "auc_test  = []\n",
    "\n",
    "for epoch in range(1000):\n",
    "    for i in range(num_batches):\n",
    "        k = i*batch_size\n",
    "        clf.zero_grad()\n",
    "        batch  = grad.Variable(torch.from_numpy(X_train_clean[k:k+batch_size,:]).type(torch.FloatTensor))\n",
    "        target = grad.Variable(torch.from_numpy(y_train.values[k:k+batch_size]).type(torch.LongTensor))\n",
    "        \n",
    "        log_probs = clf(batch)\n",
    "        loss = loss_fun(log_probs,target)\n",
    "        loss.backward()\n",
    "        optimizer.step()\n",
    "    #if epoch % 20 == 0:\n",
    "    #print('\\n',epoch, loss.data.numpy())\n",
    "    p_test  = torch.exp(clf(grad.Variable(torch.from_numpy(X_test_clean).type(torch.FloatTensor))).data[:,1]).numpy()\n",
    "    p_train = torch.exp(clf(grad.Variable(torch.from_numpy(X_train_clean).type(torch.FloatTensor))).data[:,1]).numpy()\n",
    "    auc_train.append(metrics.roc_auc_score(y_train.values,p_train))\n",
    "    auc_test.append(metrics.roc_auc_score(y_test.values,p_test))"
   ]
  },
  {
   "cell_type": "code",
   "execution_count": 295,
   "metadata": {},
   "outputs": [
    {
     "data": {
      "image/png": "[encoded data removed]",
      "text/plain": [
       "<matplotlib.figure.Figure at 0x98735d0ef0>"
      ]
     },
     "metadata": {},
     "output_type": "display_data"
    }
   ],
   "source": [
    "fig = plt.figure(figsize=(15,10))\n",
    "plt.plot(auc_train,label='train')\n",
    "plt.plot(auc_test,label='test')\n",
    "plt.ylabel('AUC'); plt.xlabel('Epochs')\n",
    "plt.grid()\n",
    "plt.legend();"
   ]
  }
 ],
 "metadata": {
  "kernelspec": {
   "display_name": "Python 3",
   "language": "python",
   "name": "python3"
  },
  "language_info": {
   "codemirror_mode": {
    "name": "ipython",
    "version": 3
   },
   "file_extension": ".py",
   "mimetype": "text/x-python",
   "name": "python",
   "nbconvert_exporter": "python",
   "pygments_lexer": "ipython3",
   "version": "3.5.3"
  }
 },
 "nbformat": 4,
 "nbformat_minor": 2
}
